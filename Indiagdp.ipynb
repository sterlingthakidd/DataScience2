{
 "cells": [
  {
   "cell_type": "code",
   "execution_count": 1,
   "id": "3f6b15e5",
   "metadata": {},
   "outputs": [],
   "source": [
    "import pandas as pd \n",
    "import seaborn as sns  "
   ]
  },
  {
   "cell_type": "code",
   "execution_count": 2,
   "id": "d8120bc9",
   "metadata": {},
   "outputs": [],
   "source": [
    "df = pd.read_csv(\"IndiaGDP.csv\")"
   ]
  },
  {
   "cell_type": "code",
   "execution_count": 3,
   "id": "b5a6f01f",
   "metadata": {},
   "outputs": [
    {
     "data": {
      "text/html": [
       "<div>\n",
       "<style scoped>\n",
       "    .dataframe tbody tr th:only-of-type {\n",
       "        vertical-align: middle;\n",
       "    }\n",
       "\n",
       "    .dataframe tbody tr th {\n",
       "        vertical-align: top;\n",
       "    }\n",
       "\n",
       "    .dataframe thead th {\n",
       "        text-align: right;\n",
       "    }\n",
       "</style>\n",
       "<table border=\"1\" class=\"dataframe\">\n",
       "  <thead>\n",
       "    <tr style=\"text-align: right;\">\n",
       "      <th></th>\n",
       "      <th>Unnamed: 0</th>\n",
       "      <th>Year</th>\n",
       "      <th>GDP</th>\n",
       "      <th>Per Capita</th>\n",
       "      <th>Growth %</th>\n",
       "    </tr>\n",
       "  </thead>\n",
       "  <tbody>\n",
       "    <tr>\n",
       "      <th>0</th>\n",
       "      <td>0</td>\n",
       "      <td>2021</td>\n",
       "      <td>3173.40</td>\n",
       "      <td>182160</td>\n",
       "      <td>8.95</td>\n",
       "    </tr>\n",
       "    <tr>\n",
       "      <th>1</th>\n",
       "      <td>1</td>\n",
       "      <td>2020</td>\n",
       "      <td>2667.69</td>\n",
       "      <td>154640</td>\n",
       "      <td>-6.60</td>\n",
       "    </tr>\n",
       "    <tr>\n",
       "      <th>2</th>\n",
       "      <td>2</td>\n",
       "      <td>2019</td>\n",
       "      <td>2831.55</td>\n",
       "      <td>165760</td>\n",
       "      <td>3.74</td>\n",
       "    </tr>\n",
       "    <tr>\n",
       "      <th>3</th>\n",
       "      <td>3</td>\n",
       "      <td>2018</td>\n",
       "      <td>2702.93</td>\n",
       "      <td>159840</td>\n",
       "      <td>6.45</td>\n",
       "    </tr>\n",
       "    <tr>\n",
       "      <th>4</th>\n",
       "      <td>4</td>\n",
       "      <td>2017</td>\n",
       "      <td>2651.47</td>\n",
       "      <td>158480</td>\n",
       "      <td>6.80</td>\n",
       "    </tr>\n",
       "  </tbody>\n",
       "</table>\n",
       "</div>"
      ],
      "text/plain": [
       "   Unnamed: 0  Year      GDP  Per Capita  Growth %\n",
       "0           0  2021  3173.40      182160      8.95\n",
       "1           1  2020  2667.69      154640     -6.60\n",
       "2           2  2019  2831.55      165760      3.74\n",
       "3           3  2018  2702.93      159840      6.45\n",
       "4           4  2017  2651.47      158480      6.80"
      ]
     },
     "execution_count": 3,
     "metadata": {},
     "output_type": "execute_result"
    }
   ],
   "source": [
    "df.head()"
   ]
  },
  {
   "cell_type": "code",
   "execution_count": 4,
   "id": "77000600",
   "metadata": {},
   "outputs": [
    {
     "name": "stdout",
     "output_type": "stream",
     "text": [
      "<class 'pandas.core.frame.DataFrame'>\n",
      "RangeIndex: 62 entries, 0 to 61\n",
      "Data columns (total 5 columns):\n",
      " #   Column      Non-Null Count  Dtype  \n",
      "---  ------      --------------  -----  \n",
      " 0   Unnamed: 0  62 non-null     int64  \n",
      " 1   Year        62 non-null     int64  \n",
      " 2   GDP         62 non-null     float64\n",
      " 3   Per Capita  62 non-null     int64  \n",
      " 4   Growth %    62 non-null     float64\n",
      "dtypes: float64(2), int64(3)\n",
      "memory usage: 2.5 KB\n"
     ]
    }
   ],
   "source": [
    "df.info()"
   ]
  },
  {
   "cell_type": "code",
   "execution_count": 5,
   "id": "1b54558c",
   "metadata": {},
   "outputs": [
    {
     "data": {
      "text/html": [
       "<div>\n",
       "<style scoped>\n",
       "    .dataframe tbody tr th:only-of-type {\n",
       "        vertical-align: middle;\n",
       "    }\n",
       "\n",
       "    .dataframe tbody tr th {\n",
       "        vertical-align: top;\n",
       "    }\n",
       "\n",
       "    .dataframe thead th {\n",
       "        text-align: right;\n",
       "    }\n",
       "</style>\n",
       "<table border=\"1\" class=\"dataframe\">\n",
       "  <thead>\n",
       "    <tr style=\"text-align: right;\">\n",
       "      <th></th>\n",
       "      <th>Unnamed: 0</th>\n",
       "      <th>Year</th>\n",
       "      <th>GDP</th>\n",
       "      <th>Per Capita</th>\n",
       "      <th>Growth %</th>\n",
       "    </tr>\n",
       "  </thead>\n",
       "  <tbody>\n",
       "    <tr>\n",
       "      <th>Unnamed: 0</th>\n",
       "      <td>1.000000</td>\n",
       "      <td>-1.000000</td>\n",
       "      <td>-0.848482</td>\n",
       "      <td>-0.867579</td>\n",
       "      <td>-0.307211</td>\n",
       "    </tr>\n",
       "    <tr>\n",
       "      <th>Year</th>\n",
       "      <td>-1.000000</td>\n",
       "      <td>1.000000</td>\n",
       "      <td>0.848482</td>\n",
       "      <td>0.867579</td>\n",
       "      <td>0.307211</td>\n",
       "    </tr>\n",
       "    <tr>\n",
       "      <th>GDP</th>\n",
       "      <td>-0.848482</td>\n",
       "      <td>0.848482</td>\n",
       "      <td>1.000000</td>\n",
       "      <td>0.998554</td>\n",
       "      <td>0.169999</td>\n",
       "    </tr>\n",
       "    <tr>\n",
       "      <th>Per Capita</th>\n",
       "      <td>-0.867579</td>\n",
       "      <td>0.867579</td>\n",
       "      <td>0.998554</td>\n",
       "      <td>1.000000</td>\n",
       "      <td>0.189860</td>\n",
       "    </tr>\n",
       "    <tr>\n",
       "      <th>Growth %</th>\n",
       "      <td>-0.307211</td>\n",
       "      <td>0.307211</td>\n",
       "      <td>0.169999</td>\n",
       "      <td>0.189860</td>\n",
       "      <td>1.000000</td>\n",
       "    </tr>\n",
       "  </tbody>\n",
       "</table>\n",
       "</div>"
      ],
      "text/plain": [
       "            Unnamed: 0      Year       GDP  Per Capita  Growth %\n",
       "Unnamed: 0    1.000000 -1.000000 -0.848482   -0.867579 -0.307211\n",
       "Year         -1.000000  1.000000  0.848482    0.867579  0.307211\n",
       "GDP          -0.848482  0.848482  1.000000    0.998554  0.169999\n",
       "Per Capita   -0.867579  0.867579  0.998554    1.000000  0.189860\n",
       "Growth %     -0.307211  0.307211  0.169999    0.189860  1.000000"
      ]
     },
     "execution_count": 5,
     "metadata": {},
     "output_type": "execute_result"
    }
   ],
   "source": [
    "df.corr()"
   ]
  },
  {
   "cell_type": "code",
   "execution_count": 6,
   "id": "a89e390b",
   "metadata": {},
   "outputs": [],
   "source": [
    "7#gdp in india in 2025"
   ]
  },
  {
   "cell_type": "code",
   "execution_count": 8,
   "id": "337d67f5",
   "metadata": {},
   "outputs": [
    {
     "data": {
      "text/plain": [
       "<AxesSubplot:xlabel='Year', ylabel='GDP'>"
      ]
     },
     "execution_count": 8,
     "metadata": {},
     "output_type": "execute_result"
    },
    {
     "data": {
      "image/png": "[encoded data removed]",
      "text/plain": [
       "<Figure size 640x480 with 1 Axes>"
      ]
     },
     "metadata": {},
     "output_type": "display_data"
    }
   ],
   "source": [
    "sns.scatterplot(data=df, x=\"Year\", y =\"GDP\")"
   ]
  },
  {
   "cell_type": "code",
   "execution_count": null,
   "id": "f94bd7ff",
   "metadata": {},
   "outputs": [],
   "source": [
    "trainDF = df.drop([14, 51])"
   ]
  },
  {
   "cell_type": "code",
   "execution_count": null,
   "id": "0a0496da",
   "metadata": {},
   "outputs": [],
   "source": [
    "testDF = {1970: 62.42, 2007: 3389.69, 2022:}"
   ]
  },
  {
   "cell_type": "code",
   "execution_count": 9,
   "id": "c2ea4b8a",
   "metadata": {},
   "outputs": [],
   "source": [
    "#Ax2 + B\n",
    "def trainModel(trainDF):\n",
    "    "
   ]
  },
  {
   "cell_type": "code",
   "execution_count": null,
   "id": "1fc9605d",
   "metadata": {},
   "outputs": [],
   "source": []
  }
 ],
 "metadata": {
  "kernelspec": {
   "display_name": "Python 3 (ipykernel)",
   "language": "python",
   "name": "python3"
  },
  "language_info": {
   "codemirror_mode": {
    "name": "ipython",
    "version": 3
   },
   "file_extension": ".py",
   "mimetype": "text/x-python",
   "name": "python",
   "nbconvert_exporter": "python",
   "pygments_lexer": "ipython3",
   "version": "3.9.13"
  }
 },
 "nbformat": 4,
 "nbformat_minor": 5
}
